{
 "cells": [
  {
   "cell_type": "code",
   "execution_count": 1,
   "id": "b480a9fa",
   "metadata": {},
   "outputs": [
    {
     "name": "stdout",
     "output_type": "stream",
     "text": [
      "      battery_power  blue  clock_speed  dual_sim  fc  four_g  int_memory  \\\n",
      "0               842     0          2.2         0   1       0           7   \n",
      "1              1021     1          0.5         1   0       1          53   \n",
      "2               563     1          0.5         1   2       1          41   \n",
      "3               615     1          2.5         0   0       0          10   \n",
      "4              1821     1          1.2         0  13       1          44   \n",
      "...             ...   ...          ...       ...  ..     ...         ...   \n",
      "1995            794     1          0.5         1   0       1           2   \n",
      "1996           1965     1          2.6         1   0       0          39   \n",
      "1997           1911     0          0.9         1   1       1          36   \n",
      "1998           1512     0          0.9         0   4       1          46   \n",
      "1999            510     1          2.0         1   5       1          45   \n",
      "\n",
      "      m_dep  mobile_wt  n_cores  ...  px_height  px_width   ram  sc_h  sc_w  \\\n",
      "0       0.6        188        2  ...         20       756  2549     9     7   \n",
      "1       0.7        136        3  ...        905      1988  2631    17     3   \n",
      "2       0.9        145        5  ...       1263      1716  2603    11     2   \n",
      "3       0.8        131        6  ...       1216      1786  2769    16     8   \n",
      "4       0.6        141        2  ...       1208      1212  1411     8     2   \n",
      "...     ...        ...      ...  ...        ...       ...   ...   ...   ...   \n",
      "1995    0.8        106        6  ...       1222      1890   668    13     4   \n",
      "1996    0.2        187        4  ...        915      1965  2032    11    10   \n",
      "1997    0.7        108        8  ...        868      1632  3057     9     1   \n",
      "1998    0.1        145        5  ...        336       670   869    18    10   \n",
      "1999    0.9        168        6  ...        483       754  3919    19     4   \n",
      "\n",
      "      talk_time  three_g  touch_screen  wifi  price_range  \n",
      "0            19        0             0     1            1  \n",
      "1             7        1             1     0            2  \n",
      "2             9        1             1     0            2  \n",
      "3            11        1             0     0            2  \n",
      "4            15        1             1     0            1  \n",
      "...         ...      ...           ...   ...          ...  \n",
      "1995         19        1             1     0            0  \n",
      "1996         16        1             1     1            2  \n",
      "1997          5        1             1     0            3  \n",
      "1998         19        1             1     1            0  \n",
      "1999          2        1             1     1            3  \n",
      "\n",
      "[2000 rows x 21 columns]\n",
      "<class 'pandas.core.frame.DataFrame'>\n",
      "RangeIndex: 2000 entries, 0 to 1999\n",
      "Data columns (total 21 columns):\n",
      " #   Column         Non-Null Count  Dtype  \n",
      "---  ------         --------------  -----  \n",
      " 0   battery_power  2000 non-null   int64  \n",
      " 1   blue           2000 non-null   int64  \n",
      " 2   clock_speed    2000 non-null   float64\n",
      " 3   dual_sim       2000 non-null   int64  \n",
      " 4   fc             2000 non-null   int64  \n",
      " 5   four_g         2000 non-null   int64  \n",
      " 6   int_memory     2000 non-null   int64  \n",
      " 7   m_dep          2000 non-null   float64\n",
      " 8   mobile_wt      2000 non-null   int64  \n",
      " 9   n_cores        2000 non-null   int64  \n",
      " 10  pc             2000 non-null   int64  \n",
      " 11  px_height      2000 non-null   int64  \n",
      " 12  px_width       2000 non-null   int64  \n",
      " 13  ram            2000 non-null   int64  \n",
      " 14  sc_h           2000 non-null   int64  \n",
      " 15  sc_w           2000 non-null   int64  \n",
      " 16  talk_time      2000 non-null   int64  \n",
      " 17  three_g        2000 non-null   int64  \n",
      " 18  touch_screen   2000 non-null   int64  \n",
      " 19  wifi           2000 non-null   int64  \n",
      " 20  price_range    2000 non-null   int64  \n",
      "dtypes: float64(2), int64(19)\n",
      "memory usage: 328.2 KB\n",
      "None\n",
      "(2000, 21)\n",
      "battery_power    0\n",
      "blue             0\n",
      "clock_speed      0\n",
      "dual_sim         0\n",
      "fc               0\n",
      "four_g           0\n",
      "int_memory       0\n",
      "m_dep            0\n",
      "mobile_wt        0\n",
      "n_cores          0\n",
      "pc               0\n",
      "px_height        0\n",
      "px_width         0\n",
      "ram              0\n",
      "sc_h             0\n",
      "sc_w             0\n",
      "talk_time        0\n",
      "three_g          0\n",
      "touch_screen     0\n",
      "wifi             0\n",
      "price_range      0\n",
      "dtype: int64\n"
     ]
    }
   ],
   "source": [
    "import pandas as pd\n",
    "\n",
    "path = \"C:\\\\programs\\\\internship final\\\\train.csv\"\n",
    "\n",
    "data=pd.read_csv(path)\n",
    "print(data)\n",
    "print(data.info())\n",
    "print(data.shape)\n",
    "print(data.isnull().sum())\n"
   ]
  },
  {
   "cell_type": "code",
   "execution_count": 2,
   "id": "98e1dd09",
   "metadata": {},
   "outputs": [
    {
     "name": "stdout",
     "output_type": "stream",
     "text": [
      "      battery_power  blue  clock_speed  dual_sim  fc  four_g  int_memory  \\\n",
      "0               842     0          2.2         0   1       0           7   \n",
      "1              1021     1          0.5         1   0       1          53   \n",
      "2               563     1          0.5         1   2       1          41   \n",
      "3               615     1          2.5         0   0       0          10   \n",
      "4              1821     1          1.2         0  13       1          44   \n",
      "...             ...   ...          ...       ...  ..     ...         ...   \n",
      "1995            794     1          0.5         1   0       1           2   \n",
      "1996           1965     1          2.6         1   0       0          39   \n",
      "1997           1911     0          0.9         1   1       1          36   \n",
      "1998           1512     0          0.9         0   4       1          46   \n",
      "1999            510     1          2.0         1   5       1          45   \n",
      "\n",
      "      m_dep  mobile_wt  n_cores  pc  px_height  px_width   ram  sc_h  sc_w  \\\n",
      "0       0.6        188        2   2         20       756  2549     9     7   \n",
      "1       0.7        136        3   6        905      1988  2631    17     3   \n",
      "2       0.9        145        5   6       1263      1716  2603    11     2   \n",
      "3       0.8        131        6   9       1216      1786  2769    16     8   \n",
      "4       0.6        141        2  14       1208      1212  1411     8     2   \n",
      "...     ...        ...      ...  ..        ...       ...   ...   ...   ...   \n",
      "1995    0.8        106        6  14       1222      1890   668    13     4   \n",
      "1996    0.2        187        4   3        915      1965  2032    11    10   \n",
      "1997    0.7        108        8   3        868      1632  3057     9     1   \n",
      "1998    0.1        145        5   5        336       670   869    18    10   \n",
      "1999    0.9        168        6  16        483       754  3919    19     4   \n",
      "\n",
      "      talk_time  three_g  touch_screen  wifi  \n",
      "0            19        0             0     1  \n",
      "1             7        1             1     0  \n",
      "2             9        1             1     0  \n",
      "3            11        1             0     0  \n",
      "4            15        1             1     0  \n",
      "...         ...      ...           ...   ...  \n",
      "1995         19        1             1     0  \n",
      "1996         16        1             1     1  \n",
      "1997          5        1             1     0  \n",
      "1998         19        1             1     1  \n",
      "1999          2        1             1     1  \n",
      "\n",
      "[2000 rows x 20 columns]\n",
      "      price_range\n",
      "0               1\n",
      "1               2\n",
      "2               2\n",
      "3               2\n",
      "4               1\n",
      "...           ...\n",
      "1995            0\n",
      "1996            2\n",
      "1997            3\n",
      "1998            0\n",
      "1999            3\n",
      "\n",
      "[2000 rows x 1 columns]\n"
     ]
    }
   ],
   "source": [
    "inputs=data.drop(['price_range'],axis=1)\n",
    "outputs=data.drop(['battery_power','blue','clock_speed','dual_sim','fc','four_g','int_memory','m_dep','mobile_wt','n_cores','pc','px_height','px_width','ram','sc_h','sc_w','talk_time','three_g','touch_screen','wifi'],axis=1)\n",
    "print(inputs)\n",
    "print(outputs)"
   ]
  },
  {
   "cell_type": "code",
   "execution_count": 3,
   "id": "ebf86329",
   "metadata": {},
   "outputs": [
    {
     "name": "stderr",
     "output_type": "stream",
     "text": [
      "C:\\Users\\LENOVO\\anaconda3\\lib\\site-packages\\sklearn\\neighbors\\_classification.py:198: DataConversionWarning: A column-vector y was passed when a 1d array was expected. Please change the shape of y to (n_samples,), for example using ravel().\n",
      "  return self._fit(X, y)\n",
      "C:\\Users\\LENOVO\\anaconda3\\lib\\site-packages\\sklearn\\base.py:450: UserWarning: X does not have valid feature names, but KNeighborsClassifier was fitted with feature names\n",
      "  warnings.warn(\n",
      "C:\\Users\\LENOVO\\anaconda3\\lib\\site-packages\\sklearn\\neighbors\\_classification.py:228: FutureWarning: Unlike other reduction functions (e.g. `skew`, `kurtosis`), the default behavior of `mode` typically preserves the axis it acts along. In SciPy 1.11.0, this behavior will change: the default value of `keepdims` will become False, the `axis` over which the statistic is taken will be eliminated, and the value None will no longer be accepted. Set `keepdims` to True or False to avoid this warning.\n",
      "  mode, _ = stats.mode(_y[neigh_ind, k], axis=1)\n"
     ]
    },
    {
     "name": "stdout",
     "output_type": "stream",
     "text": [
      "[1]\n",
      "93.55\n"
     ]
    },
    {
     "name": "stderr",
     "output_type": "stream",
     "text": [
      "C:\\Users\\LENOVO\\anaconda3\\lib\\site-packages\\sklearn\\neighbors\\_classification.py:228: FutureWarning: Unlike other reduction functions (e.g. `skew`, `kurtosis`), the default behavior of `mode` typically preserves the axis it acts along. In SciPy 1.11.0, this behavior will change: the default value of `keepdims` will become False, the `axis` over which the statistic is taken will be eliminated, and the value None will no longer be accepted. Set `keepdims` to True or False to avoid this warning.\n",
      "  mode, _ = stats.mode(_y[neigh_ind, k], axis=1)\n"
     ]
    }
   ],
   "source": [
    "import sklearn\n",
    "from sklearn.neighbors import KNeighborsClassifier\n",
    "model = KNeighborsClassifier(n_neighbors = 45)\n",
    "model.fit(inputs, outputs)\n",
    "\n",
    "res = model.predict([[500,0,0.5,0,5,1,50,.8,150,5,5,1000,800,2000,15,8,10,22,22,11]])\n",
    "print(res)\n",
    "\n",
    "acc=model.score(inputs,outputs)\n",
    "print(acc*100)"
   ]
  },
  {
   "cell_type": "code",
   "execution_count": null,
   "id": "902ab343",
   "metadata": {},
   "outputs": [],
   "source": []
  },
  {
   "cell_type": "code",
   "execution_count": null,
   "id": "b9c08c18",
   "metadata": {},
   "outputs": [],
   "source": []
  },
  {
   "cell_type": "code",
   "execution_count": null,
   "id": "35a4b0e0",
   "metadata": {},
   "outputs": [],
   "source": []
  },
  {
   "cell_type": "code",
   "execution_count": null,
   "id": "1d155e2f",
   "metadata": {},
   "outputs": [],
   "source": []
  }
 ],
 "metadata": {
  "kernelspec": {
   "display_name": "Python 3 (ipykernel)",
   "language": "python",
   "name": "python3"
  },
  "language_info": {
   "codemirror_mode": {
    "name": "ipython",
    "version": 3
   },
   "file_extension": ".py",
   "mimetype": "text/x-python",
   "name": "python",
   "nbconvert_exporter": "python",
   "pygments_lexer": "ipython3",
   "version": "3.9.13"
  }
 },
 "nbformat": 4,
 "nbformat_minor": 5
}
